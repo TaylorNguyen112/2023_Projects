{
 "cells": [
  {
   "cell_type": "code",
   "execution_count": 36,
   "id": "8dfe336d-d3ba-48eb-a0c8-2e11a866e157",
   "metadata": {},
   "outputs": [
    {
     "name": "stdout",
     "output_type": "stream",
     "text": [
      "[('Wind',)]\n"
     ]
    }
   ],
   "source": [
    "import sqlite3\n",
    "import pandas as pd\n",
    "import pathlib\n",
    "\n",
    "DB_FILE = pathlib.Path('wind.ipynb').resolve().parent.joinpath(\"wind-data.db\").resolve()\n",
    "\n",
    "con = sqlite3.connect(\"wind-data.db\")\n",
    "sql_query = \"\"\"SELECT name FROM sqlite_master  \n",
    "            WHERE type='table';\"\"\"\n",
    "cursor = con.cursor()\n",
    "cursor.execute(sql_query)\n",
    "print(cursor.fetchall())"
   ]
  },
  {
   "cell_type": "code",
   "execution_count": 37,
   "id": "8c813286-a529-4374-bdb7-db84ae6f127e",
   "metadata": {},
   "outputs": [
    {
     "data": {
      "text/html": [
       "<div>\n",
       "<style scoped>\n",
       "    .dataframe tbody tr th:only-of-type {\n",
       "        vertical-align: middle;\n",
       "    }\n",
       "\n",
       "    .dataframe tbody tr th {\n",
       "        vertical-align: top;\n",
       "    }\n",
       "\n",
       "    .dataframe thead th {\n",
       "        text-align: right;\n",
       "    }\n",
       "</style>\n",
       "<table border=\"1\" class=\"dataframe\">\n",
       "  <thead>\n",
       "    <tr style=\"text-align: right;\">\n",
       "      <th></th>\n",
       "      <th>index</th>\n",
       "      <th>Direction</th>\n",
       "      <th>Speed</th>\n",
       "      <th>SpeedError</th>\n",
       "    </tr>\n",
       "  </thead>\n",
       "  <tbody>\n",
       "    <tr>\n",
       "      <th>0</th>\n",
       "      <td>0</td>\n",
       "      <td>140.313453</td>\n",
       "      <td>22.527979</td>\n",
       "      <td>2.797670</td>\n",
       "    </tr>\n",
       "    <tr>\n",
       "      <th>1</th>\n",
       "      <td>1</td>\n",
       "      <td>136.104729</td>\n",
       "      <td>20.343867</td>\n",
       "      <td>0.475398</td>\n",
       "    </tr>\n",
       "    <tr>\n",
       "      <th>2</th>\n",
       "      <td>2</td>\n",
       "      <td>140.733317</td>\n",
       "      <td>18.138254</td>\n",
       "      <td>1.149379</td>\n",
       "    </tr>\n",
       "    <tr>\n",
       "      <th>3</th>\n",
       "      <td>3</td>\n",
       "      <td>145.669873</td>\n",
       "      <td>16.274534</td>\n",
       "      <td>0.230573</td>\n",
       "    </tr>\n",
       "    <tr>\n",
       "      <th>4</th>\n",
       "      <td>4</td>\n",
       "      <td>145.320640</td>\n",
       "      <td>13.206622</td>\n",
       "      <td>0.482230</td>\n",
       "    </tr>\n",
       "    <tr>\n",
       "      <th>...</th>\n",
       "      <td>...</td>\n",
       "      <td>...</td>\n",
       "      <td>...</td>\n",
       "      <td>...</td>\n",
       "    </tr>\n",
       "    <tr>\n",
       "      <th>86395</th>\n",
       "      <td>86395</td>\n",
       "      <td>1535.885676</td>\n",
       "      <td>10.892037</td>\n",
       "      <td>1.232578</td>\n",
       "    </tr>\n",
       "    <tr>\n",
       "      <th>86396</th>\n",
       "      <td>86396</td>\n",
       "      <td>1540.034147</td>\n",
       "      <td>6.137343</td>\n",
       "      <td>0.320307</td>\n",
       "    </tr>\n",
       "    <tr>\n",
       "      <th>86397</th>\n",
       "      <td>86397</td>\n",
       "      <td>1542.120675</td>\n",
       "      <td>8.586977</td>\n",
       "      <td>1.356016</td>\n",
       "    </tr>\n",
       "    <tr>\n",
       "      <th>86398</th>\n",
       "      <td>86398</td>\n",
       "      <td>1538.892465</td>\n",
       "      <td>9.900780</td>\n",
       "      <td>0.314597</td>\n",
       "    </tr>\n",
       "    <tr>\n",
       "      <th>86399</th>\n",
       "      <td>86399</td>\n",
       "      <td>1543.749966</td>\n",
       "      <td>11.964132</td>\n",
       "      <td>2.817982</td>\n",
       "    </tr>\n",
       "  </tbody>\n",
       "</table>\n",
       "<p>86400 rows × 4 columns</p>\n",
       "</div>"
      ],
      "text/plain": [
       "       index    Direction      Speed  SpeedError\n",
       "0          0   140.313453  22.527979    2.797670\n",
       "1          1   136.104729  20.343867    0.475398\n",
       "2          2   140.733317  18.138254    1.149379\n",
       "3          3   145.669873  16.274534    0.230573\n",
       "4          4   145.320640  13.206622    0.482230\n",
       "...      ...          ...        ...         ...\n",
       "86395  86395  1535.885676  10.892037    1.232578\n",
       "86396  86396  1540.034147   6.137343    0.320307\n",
       "86397  86397  1542.120675   8.586977    1.356016\n",
       "86398  86398  1538.892465   9.900780    0.314597\n",
       "86399  86399  1543.749966  11.964132    2.817982\n",
       "\n",
       "[86400 rows x 4 columns]"
      ]
     },
     "execution_count": 37,
     "metadata": {},
     "output_type": "execute_result"
    }
   ],
   "source": [
    "df = pd.read_sql_query(\"SELECT * FROM Wind\",con)\n",
    "df"
   ]
  },
  {
   "cell_type": "code",
   "execution_count": 38,
   "id": "df116bb6-1ac4-4626-9f99-58224cb796f2",
   "metadata": {},
   "outputs": [
    {
     "data": {
      "text/html": [
       "<div>\n",
       "<style scoped>\n",
       "    .dataframe tbody tr th:only-of-type {\n",
       "        vertical-align: middle;\n",
       "    }\n",
       "\n",
       "    .dataframe tbody tr th {\n",
       "        vertical-align: top;\n",
       "    }\n",
       "\n",
       "    .dataframe thead th {\n",
       "        text-align: right;\n",
       "    }\n",
       "</style>\n",
       "<table border=\"1\" class=\"dataframe\">\n",
       "  <thead>\n",
       "    <tr style=\"text-align: right;\">\n",
       "      <th></th>\n",
       "      <th>index</th>\n",
       "      <th>Direction</th>\n",
       "      <th>Speed</th>\n",
       "      <th>SpeedError</th>\n",
       "    </tr>\n",
       "  </thead>\n",
       "  <tbody>\n",
       "    <tr>\n",
       "      <th>count</th>\n",
       "      <td>86400.000000</td>\n",
       "      <td>86400.000000</td>\n",
       "      <td>86400.000000</td>\n",
       "      <td>86400.000000</td>\n",
       "    </tr>\n",
       "    <tr>\n",
       "      <th>mean</th>\n",
       "      <td>43199.500000</td>\n",
       "      <td>395.759368</td>\n",
       "      <td>27.376628</td>\n",
       "      <td>2.397891</td>\n",
       "    </tr>\n",
       "    <tr>\n",
       "      <th>std</th>\n",
       "      <td>24941.675966</td>\n",
       "      <td>419.083760</td>\n",
       "      <td>12.946728</td>\n",
       "      <td>1.482097</td>\n",
       "    </tr>\n",
       "    <tr>\n",
       "      <th>min</th>\n",
       "      <td>0.000000</td>\n",
       "      <td>-261.954857</td>\n",
       "      <td>0.007658</td>\n",
       "      <td>0.000036</td>\n",
       "    </tr>\n",
       "    <tr>\n",
       "      <th>25%</th>\n",
       "      <td>21599.750000</td>\n",
       "      <td>92.974340</td>\n",
       "      <td>16.662654</td>\n",
       "      <td>1.186125</td>\n",
       "    </tr>\n",
       "    <tr>\n",
       "      <th>50%</th>\n",
       "      <td>43199.500000</td>\n",
       "      <td>297.423893</td>\n",
       "      <td>27.233948</td>\n",
       "      <td>2.277705</td>\n",
       "    </tr>\n",
       "    <tr>\n",
       "      <th>75%</th>\n",
       "      <td>64799.250000</td>\n",
       "      <td>591.057255</td>\n",
       "      <td>37.972190</td>\n",
       "      <td>3.464913</td>\n",
       "    </tr>\n",
       "    <tr>\n",
       "      <th>max</th>\n",
       "      <td>86399.000000</td>\n",
       "      <td>1605.848331</td>\n",
       "      <td>66.669587</td>\n",
       "      <td>8.981360</td>\n",
       "    </tr>\n",
       "  </tbody>\n",
       "</table>\n",
       "</div>"
      ],
      "text/plain": [
       "              index     Direction         Speed    SpeedError\n",
       "count  86400.000000  86400.000000  86400.000000  86400.000000\n",
       "mean   43199.500000    395.759368     27.376628      2.397891\n",
       "std    24941.675966    419.083760     12.946728      1.482097\n",
       "min        0.000000   -261.954857      0.007658      0.000036\n",
       "25%    21599.750000     92.974340     16.662654      1.186125\n",
       "50%    43199.500000    297.423893     27.233948      2.277705\n",
       "75%    64799.250000    591.057255     37.972190      3.464913\n",
       "max    86399.000000   1605.848331     66.669587      8.981360"
      ]
     },
     "execution_count": 38,
     "metadata": {},
     "output_type": "execute_result"
    }
   ],
   "source": [
    "df.describe()"
   ]
  },
  {
   "cell_type": "code",
   "execution_count": 39,
   "id": "273bafcd-38e7-4ba3-a3dd-87c15f5f37c6",
   "metadata": {},
   "outputs": [
    {
     "name": "stdout",
     "output_type": "stream",
     "text": [
      "<class 'pandas.core.frame.DataFrame'>\n",
      "RangeIndex: 86400 entries, 0 to 86399\n",
      "Data columns (total 4 columns):\n",
      " #   Column      Non-Null Count  Dtype  \n",
      "---  ------      --------------  -----  \n",
      " 0   index       86400 non-null  int64  \n",
      " 1   Direction   86400 non-null  float64\n",
      " 2   Speed       86400 non-null  float64\n",
      " 3   SpeedError  86400 non-null  float64\n",
      "dtypes: float64(3), int64(1)\n",
      "memory usage: 2.6 MB\n"
     ]
    }
   ],
   "source": [
    "df.info()"
   ]
  },
  {
   "cell_type": "code",
   "execution_count": 40,
   "id": "cfabb450-697f-475a-b8ca-9178a7bdcb8e",
   "metadata": {},
   "outputs": [
    {
     "data": {
      "text/plain": [
       "index         0\n",
       "Direction     0\n",
       "Speed         0\n",
       "SpeedError    0\n",
       "dtype: int64"
      ]
     },
     "execution_count": 40,
     "metadata": {},
     "output_type": "execute_result"
    }
   ],
   "source": [
    "df.isnull().sum()"
   ]
  },
  {
   "cell_type": "code",
   "execution_count": null,
   "id": "67f76bd3-c17b-4c99-a166-8ba0da535a65",
   "metadata": {},
   "outputs": [],
   "source": []
  }
 ],
 "metadata": {
  "kernelspec": {
   "display_name": "Python 3 (ipykernel)",
   "language": "python",
   "name": "python3"
  },
  "language_info": {
   "codemirror_mode": {
    "name": "ipython",
    "version": 3
   },
   "file_extension": ".py",
   "mimetype": "text/x-python",
   "name": "python",
   "nbconvert_exporter": "python",
   "pygments_lexer": "ipython3",
   "version": "3.11.1"
  }
 },
 "nbformat": 4,
 "nbformat_minor": 5
}
